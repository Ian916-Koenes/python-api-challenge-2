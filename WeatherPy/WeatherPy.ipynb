{
 "cells": [
  {
   "cell_type": "markdown",
   "metadata": {},
   "source": [
    "# WeatherPy\n",
    "----\n",
    "\n",
    "#### Note\n",
    "* Instructions have been included for each segment. You do not have to follow them exactly, but they are included to help you think through the steps."
   ]
  },
  {
   "cell_type": "code",
   "execution_count": null,
   "metadata": {
    "scrolled": true
   },
   "outputs": [],
   "source": [
    "# Dependencies and Setup\n",
    "import matplotlib.pyplot as plt\n",
    "import pandas as pd\n",
    "import numpy as np\n",
    "import requests\n",
    "import time\n",
    "from scipy.stats import linregress\n",
    "import json\n",
    "\n",
    "\n",
    "# Import API key\n",
    "from api_keys import weather_api_key\n",
    "\n",
    "# Incorporated citipy to determine city based on latitude and longitude\n",
    "from citipy import citipy\n",
    "\n",
    "# Output File (CSV)\n",
    "output_data_file = \"output_data/cities.csv\"\n",
    "\n",
    "# Range of latitudes and longitudes\n",
    "lat_range = (-90, 90)\n",
    "lng_range = (-180, 180)"
   ]
  },
  {
   "cell_type": "markdown",
   "metadata": {},
   "source": [
    "## Generate Cities List"
   ]
  },
  {
   "cell_type": "code",
   "execution_count": null,
   "metadata": {},
   "outputs": [],
   "source": [
    "# List for holding lat_lngs and cities\n",
    "lat_lngs = []\n",
    "cities = []\n",
    "\n",
    "# Create a set of random lat and lng combinations\n",
    "#np.random,seed(635)\n",
    "lats = np.random.uniform(lat_range[0], lat_range[1], size=1500)\n",
    "lngs = np.random.uniform(lng_range[0], lng_range[1], size=1500)\n",
    "lat_lngs = zip(lats, lngs)\n",
    "\n",
    "# Identify nearest city for each lat, lng combination\n",
    "for lat_lng in lat_lngs:\n",
    "    city = citipy.nearest_city(lat_lng[0], lat_lng[1]).city_name\n",
    "    \n",
    "    # If the city is unique, then add it to a our cities list\n",
    "    if city not in cities:\n",
    "        cities.append(city)\n",
    "\n",
    "# Print the city count to confirm sufficient count\n",
    "len(cities)"
   ]
  },
  {
   "cell_type": "code",
   "execution_count": null,
   "metadata": {},
   "outputs": [],
   "source": []
  },
  {
   "cell_type": "markdown",
   "metadata": {},
   "source": [
    "### Perform API Calls\n",
    "* Perform a weather check on each city using a series of successive API calls.\n",
    "* Include a print log of each city as it'sbeing processed (with the city number and city name).\n"
   ]
  },
  {
   "cell_type": "code",
   "execution_count": null,
   "metadata": {
    "tags": []
   },
   "outputs": [],
   "source": [
    "# Set up URL with api key to create connection point\n",
    "url = \"http://api.openweathermap.org/data/2.5/forecast?id=524901&APPID=\" + weather_api_key\n",
    "# retrieve data on a single city weather.\n",
    "# convert to json and obtain keys\n",
    "test_response = requests.get(url + \"&q=london&units=Imperial\")\n",
    "test_json = test_response.json()\n",
    "# print json file \n",
    "print(json.dumps(test_json, indent=4, sort_keys=True))"
   ]
  },
  {
   "cell_type": "code",
   "execution_count": null,
   "metadata": {
    "scrolled": true,
    "tags": []
   },
   "outputs": [],
   "source": [
    "# Create empty lists to place data in \n",
    "city_name = []\n",
    "Lat = []\n",
    "Lon = []\n",
    "Max_temp = []\n",
    "Humidity = []\n",
    "Cloudiness = []\n",
    "Wind_Speed = []\n",
    "Country = []\n",
    "Date = []\n",
    "# begining initial print of cities\n",
    "print(f\"Beginning data retrieval\")\n",
    "print(f\"---------------------------------\")\n",
    "# create for loop to loop through the cities in the json file \n",
    "# create url path \n",
    "# retrieve data on cites weather conditions from the url path \n",
    "# formal into jason\n",
    "# create try excpet to skip cities with a KeyError and IndexError\n",
    "# append json, with keys, to each empty list\n",
    "# print cities and except\n",
    "for i, city in enumerate(cities):\n",
    "\n",
    "    url = f\"http://api.openweathermap.org/data/2.5/forecast?id=524901&APPID={weather_api_key}&q={city}&units=Imperial\"\n",
    "\n",
    "    response = requests.get(url)\n",
    "    response_json=response.json()\n",
    "    try:\n",
    "        \n",
    "        city_name.append(response_json[\"city\"][\"name\"])\n",
    "        Lat.append(response_json[\"city\"][\"coord\"][\"lat\"])\n",
    "        Lon.append(response_json[\"city\"][\"coord\"][\"lon\"])\n",
    "        Max_temp.append(response_json[\"list\"][0][\"main\"][\"temp_max\"])\n",
    "        Humidity.append(response_json[\"list\"][0][\"main\"][\"humidity\"])\n",
    "        Cloudiness.append(response_json[\"list\"][0][\"clouds\"][\"all\"])\n",
    "        Wind_Speed.append(response_json[\"list\"][0][\"wind\"][\"speed\"])\n",
    "        Country.append(response_json[\"city\"][\"country\"])\n",
    "        Date.append(response_json[\"list\"][0][\"dt\"])\n",
    "        print(f\"Processing Record {i} | {city}\")\n",
    "    except (KeyError, IndexError):\n",
    "        print(f\"error processing, next {city}\")\n",
    "# print end of data retrieval        \n",
    "print(f\"--------------------------------\")\n",
    "print(f\"Data retrieval complete\")\n",
    "print(f\"--------------------------------\")"
   ]
  },
  {
   "cell_type": "code",
   "execution_count": null,
   "metadata": {},
   "outputs": [],
   "source": []
  },
  {
   "cell_type": "markdown",
   "metadata": {},
   "source": [
    "### Convert Raw Data to DataFrame\n",
    "* Export the city data into a .csv.\n",
    "* Display the DataFrame"
   ]
  },
  {
   "cell_type": "code",
   "execution_count": null,
   "metadata": {},
   "outputs": [],
   "source": [
    "# Create dataframe using appended list \n",
    "# save dataframe to output csv\n",
    "# print dataframe\n",
    "Cities_Weather_df=pd.DataFrame({ \"City\": city_name, \"Lat\": Lat, \"Lng\": Lon, \"Max Temp\": Max_temp, \"Humidity\": Humidity, \"Cloudiness\": Cloudiness, \"Wind Speed\": Wind_Speed, \"Country\": Country, \"Date\": Date})\n",
    "Cities_Weather_df.to_csv(\"Weather_Output.csv\")\n",
    "Cities_Weather_df"
   ]
  },
  {
   "cell_type": "code",
   "execution_count": null,
   "metadata": {},
   "outputs": [],
   "source": [
    "# print descristive statistics of dataframe varibales\n",
    "Cities_Weather_df.describe()"
   ]
  },
  {
   "cell_type": "markdown",
   "metadata": {},
   "source": [
    "## Inspect the data and remove the cities where the humidity > 100%.\n",
    "----\n",
    "Skip this step if there are no cities that have humidity > 100%. "
   ]
  },
  {
   "cell_type": "code",
   "execution_count": null,
   "metadata": {},
   "outputs": [],
   "source": [
    "# print descristive statistics of dataframe varibales\n",
    "Cities_Weather_df.describe()"
   ]
  },
  {
   "cell_type": "code",
   "execution_count": null,
   "metadata": {},
   "outputs": [],
   "source": [
    "# Get the indices of cities that have humidity over 100\n",
    "Cities_Weather_gt100_index = Cities_Weather_df.index[Cities_Weather_df[\"Humidity\"] > 100]\n",
    "Cities_Weather_gt100_index"
   ]
  },
  {
   "cell_type": "code",
   "execution_count": null,
   "metadata": {},
   "outputs": [],
   "source": [
    "# Make a new DataFrame equal to the city data to drop all humidity outliers by index.\n",
    "# Passing \"inplace=False\" will make a copy of the city_data DataFrame, which we call \"clean_city_data\".\n",
    "Clean_city_df = Cities_Weather_df.drop(Cities_Weather_gt100_index,inplace=False)\n",
    "Clean_city_df.head()"
   ]
  },
  {
   "cell_type": "code",
   "execution_count": null,
   "metadata": {},
   "outputs": [],
   "source": [
    "\n"
   ]
  },
  {
   "cell_type": "markdown",
   "metadata": {},
   "source": [
    "## Plotting the Data\n",
    "* Use proper labeling of the plots using plot titles (including date of analysis) and axes labels.\n",
    "* Save the plotted figures as .pngs."
   ]
  },
  {
   "cell_type": "markdown",
   "metadata": {},
   "source": [
    "## Latitude vs. Temperature Plot"
   ]
  },
  {
   "cell_type": "code",
   "execution_count": null,
   "metadata": {
    "scrolled": true
   },
   "outputs": [],
   "source": [
    "# Create scatter plot for Latitude vs Temperature\n",
    "# print scatter plot \n",
    "Date_Secs = Clean_city_df.iloc[0,8]\n",
    "Date_full = str(pd.to_datetime(Date_Secs, unit=\"s\"))\n",
    "time_list = Date_full.split(\" \")\n",
    "date_list = time_list[0].split(\"-\")\n",
    "my_date= f\"({date_list[1]}/{date_list[2]}/{date_list[0]})\"\n",
    "print(my_date)\n",
    "Clean_city_df.plot(kind=\"scatter\", x=\"Lat\", y=\"Max Temp\", grid=True, figsize=(8,8),\n",
    "              title=f\"City Latitude Vs. Max Temperature {my_date}\")\n",
    "plt.xlabel(\"Latitude\")\n",
    "plt.ylabel(\"Max Temperature(F)\")\n",
    "plt.show()"
   ]
  },
  {
   "cell_type": "code",
   "execution_count": 4,
   "metadata": {},
   "outputs": [
    {
     "output_type": "stream",
     "name": "stdout",
     "text": [
      "The temperature increases as I move from the southern hemisphere to the equator. Then decreases in tempt as I move away from the equator.\n"
     ]
    }
   ],
   "source": [
    "print(f'The temperature increases as I move from the southern hemisphere to the equator. Then decreases in tempt as I move away from the equator.')"
   ]
  },
  {
   "cell_type": "code",
   "execution_count": null,
   "metadata": {},
   "outputs": [],
   "source": [
    "# Create scatter plot for Latitude vs Humidity \n",
    "# print scatter plot \n",
    "Date_Secs = Clean_city_df.iloc[0,8]\n",
    "Date_full = str(pd.to_datetime(Date_Secs, unit=\"s\"))\n",
    "time_list = Date_full.split(\" \")\n",
    "date_list = time_list[0].split(\"-\")\n",
    "my_date= f\"({date_list[1]}/{date_list[2]}/{date_list[0]})\"\n",
    "print(my_date)\n",
    "Clean_city_df.plot(kind=\"scatter\", x=\"Lat\", y=\"Humidity\", grid=True, figsize=(8,8),\n",
    "              title=f\"City Latitude Vs. Humidity {my_date}\")\n",
    "plt.xlabel(\"Latitude\")\n",
    "plt.ylabel(\"Humidity(%)\")"
   ]
  },
  {
   "cell_type": "code",
   "execution_count": 3,
   "metadata": {},
   "outputs": [
    {
     "output_type": "stream",
     "name": "stdout",
     "text": [
      "There appears to be a higher percentage of humidity the further away from the equator.\n"
     ]
    }
   ],
   "source": [
    "print(f'There appears to be a higher percentage of humidity the further away from the equator.')"
   ]
  },
  {
   "cell_type": "markdown",
   "metadata": {},
   "source": [
    "## Latitude vs. Cloudiness Plot"
   ]
  },
  {
   "cell_type": "code",
   "execution_count": null,
   "metadata": {},
   "outputs": [],
   "source": [
    "# Create scatter plot for Latitude vs Cloudiness\n",
    "# print scatter plot \n",
    "Date_Secs = Clean_city_df.iloc[0,8]\n",
    "Date_full = str(pd.to_datetime(Date_Secs, unit=\"s\"))\n",
    "time_list = Date_full.split(\" \")\n",
    "date_list = time_list[0].split(\"-\")\n",
    "my_date= f\"({date_list[1]}/{date_list[2]}/{date_list[0]})\"\n",
    "print(my_date)\n",
    "Clean_city_df.plot(kind=\"scatter\", x=\"Lat\", y=\"Cloudiness\", grid=True, figsize=(8,8),\n",
    "              title=\"Latitude Vs. Cloudiness\")"
   ]
  },
  {
   "cell_type": "code",
   "execution_count": 5,
   "metadata": {},
   "outputs": [
    {
     "output_type": "stream",
     "name": "stdout",
     "text": [
      "Cloudiness appears to be eaully distributed\n"
     ]
    }
   ],
   "source": [
    "print(f'Cloudiness appears to be eaully distributed.')"
   ]
  },
  {
   "cell_type": "markdown",
   "metadata": {},
   "source": [
    "## Latitude vs. Wind Speed Plot"
   ]
  },
  {
   "cell_type": "code",
   "execution_count": null,
   "metadata": {},
   "outputs": [],
   "source": [
    "# Create scatter plot for Latitude vs Wind Speed\n",
    "# print scatter plot \n",
    "Date_Secs = Clean_city_df.iloc[0,8]\n",
    "Date_full = str(pd.to_datetime(Date_Secs, unit=\"s\"))\n",
    "time_list = Date_full.split(\" \")\n",
    "date_list = time_list[0].split(\"-\")\n",
    "my_date= f\"({date_list[1]}/{date_list[2]}/{date_list[0]})\"\n",
    "print(my_date)\n",
    "Clean_city_df.plot(kind=\"scatter\", x=\"Lat\", y=\"Wind Speed\", grid=True,\n",
    "              title=\"Latitude Vs. Wind Speed\")"
   ]
  },
  {
   "cell_type": "code",
   "execution_count": null,
   "metadata": {},
   "outputs": [],
   "source": [
    "print(f'Wind speed appears to be grouped between 1 qand 15 mph.')"
   ]
  },
  {
   "cell_type": "markdown",
   "metadata": {},
   "source": [
    "## Linear Regression"
   ]
  },
  {
   "cell_type": "code",
   "execution_count": null,
   "metadata": {},
   "outputs": [],
   "source": [
    "# Create dataframes for Northern and Southern hemisphere \n",
    "# pull the latitiude from the Clean dataframe\n",
    "Northern_Hemisphere_df = Clean_city_df.loc[Clean_city_df[\"Lat\"] >= 0, :]\n",
    "southern_Hemisphere_df = Clean_city_df.loc[Clean_city_df[\"Lat\"] <= 0, :]"
   ]
  },
  {
   "cell_type": "markdown",
   "metadata": {},
   "source": [
    "####  Northern Hemisphere - Max Temp vs. Latitude Linear Regression"
   ]
  },
  {
   "cell_type": "code",
   "execution_count": null,
   "metadata": {},
   "outputs": [],
   "source": [
    "# plot and perform regressiona analysis for the nothern hemisphere, Max Temp vs. Latitude\n",
    "x_axis = Northern_Hemisphere_df[\"Lat\"]\n",
    "y_axis = Northern_Hemisphere_df[\"Max Temp\"]\n",
    "(slope, intercept, rvalue, pvalue, stderr) = linregress(x_axis, y_axis)\n",
    "regress_values = x_axis * slope + intercept\n",
    "line_eq = \"y = \" + str(round(slope,2)) + \"x + \" + str(round(intercept,2))\n",
    "plt.scatter(x_axis,y_axis)\n",
    "plt.plot(x_axis,regress_values,\"r-\")\n",
    "plt.annotate(line_eq,(6,10),fontsize=15,color=\"red\")\n",
    "plt.title(\"Northern Hemisphere - Max Temp Vs. Latitude\")\n",
    "plt.xlabel(\"Latitude\")\n",
    "plt.ylabel(\"Max Temp\")\n",
    "print(f\"The r-value is: {rvalue:.2f}\") \n",
    "plt.show()"
   ]
  },
  {
   "cell_type": "code",
   "execution_count": 2,
   "metadata": {},
   "outputs": [
    {
     "output_type": "stream",
     "name": "stdout",
     "text": [
      "The Model shows there is a negative regression between Max Temp and latitude. As the distance moves away from the equator, the max temp drops.\n"
     ]
    }
   ],
   "source": [
    "print(f'The Model shows there is a negative regression between Max Temp and latitude. As the distance moves away from the equator, the max temp drops.' )"
   ]
  },
  {
   "cell_type": "markdown",
   "metadata": {},
   "source": [
    "####  Southern Hemisphere - Max Temp vs. Latitude Linear Regression"
   ]
  },
  {
   "cell_type": "code",
   "execution_count": null,
   "metadata": {},
   "outputs": [],
   "source": [
    "# plot and perform regressiona analysis for the southern hemisphere, Max Temp vs. Latitude\n",
    "x_axis = southern_Hemisphere_df[\"Lat\"]\n",
    "y_axis = southern_Hemisphere_df[\"Max Temp\"]\n",
    "(slope, intercept, rvalue, pvalue, stderr) = linregress(x_axis, y_axis)\n",
    "regress_values = x_axis * slope + intercept\n",
    "line_eq = \"y = \" + str(round(slope,2)) + \"x + \" + str(round(intercept,2))\n",
    "plt.scatter(x_axis,y_axis)\n",
    "plt.plot(x_axis,regress_values,\"r-\")\n",
    "plt.annotate(line_eq,(6,10),fontsize=15,color=\"red\")\n",
    "plt.title(\"Southern Hemisphere - Max Temp Vs. Latitude\")\n",
    "plt.xlabel(\"Latitude\")\n",
    "plt.ylabel(\"Max Temp\")\n",
    "print(f\"The r-value is: {rvalue:.2f}\") \n",
    "plt.show()"
   ]
  },
  {
   "cell_type": "code",
   "execution_count": 3,
   "metadata": {},
   "outputs": [
    {
     "output_type": "stream",
     "name": "stdout",
     "text": [
      "There is a positive relationship between max temp and the latitude. As distnce moves toward the equator, the max temp increases.\n"
     ]
    }
   ],
   "source": [
    "print(f'There is a positive relationship between max temp and the latitude. As distnce moves toward the equator, the max temp increases.')"
   ]
  },
  {
   "cell_type": "markdown",
   "metadata": {},
   "source": [
    "####  Northern Hemisphere - Humidity (%) vs. Latitude Linear Regression"
   ]
  },
  {
   "cell_type": "code",
   "execution_count": null,
   "metadata": {},
   "outputs": [],
   "source": [
    "# plot and perform regressiona analysis for the nothern hemisphere, Humidity(%) vs. Latitude\n",
    "x_axis = Northern_Hemisphere_df[\"Lat\"]\n",
    "y_axis = Northern_Hemisphere_df[\"Humidity\"]\n",
    "(slope, intercept, rvalue, pvalue, stderr) = linregress(x_axis, y_axis)\n",
    "regress_values = x_axis * slope + intercept\n",
    "line_eq = \"y = \" + str(round(slope,2)) + \"x + \" + str(round(intercept,2))\n",
    "plt.scatter(x_axis,y_axis)\n",
    "plt.plot(x_axis,regress_values,\"r-\")\n",
    "plt.annotate(line_eq,(6,10),fontsize=15,color=\"red\")\n",
    "plt.title(\"Northern Hemisphere - Humidity (%) Vs. Latitude\")\n",
    "plt.xlabel(\"Latitude\")\n",
    "plt.ylabel(\"Humidity (%\")\n",
    "print(f\"The r-value is: {rvalue:.2f}\") \n",
    "plt.show()"
   ]
  },
  {
   "cell_type": "code",
   "execution_count": 4,
   "metadata": {},
   "outputs": [
    {
     "output_type": "stream",
     "name": "stdout",
     "text": [
      "There is nearly zero gression relationship between humidity and latitude.\n"
     ]
    }
   ],
   "source": [
    "print('There is nearly zero gression relationship between humidity and latitude in the northern. Showin the humidity percentage is equally distributed.')"
   ]
  },
  {
   "cell_type": "markdown",
   "metadata": {},
   "source": [
    "####  Southern Hemisphere - Humidity (%) vs. Latitude Linear Regression"
   ]
  },
  {
   "cell_type": "code",
   "execution_count": null,
   "metadata": {},
   "outputs": [],
   "source": [
    "# plot and perform regressiona analysis for the southern hemisphere, Humidity(%) vs. Latitude\n",
    "x_axis = southern_Hemisphere_df[\"Lat\"]\n",
    "y_axis = southern_Hemisphere_df[\"Humidity\"]\n",
    "(slope, intercept, rvalue, pvalue, stderr) = linregress(x_axis, y_axis)\n",
    "regress_values = x_axis * slope + intercept\n",
    "line_eq = \"y = \" + str(round(slope,2)) + \"x + \" + str(round(intercept,2))\n",
    "plt.scatter(x_axis,y_axis)\n",
    "plt.plot(x_axis,regress_values,\"r-\")\n",
    "plt.annotate(line_eq,(6,10),fontsize=15,color=\"red\")\n",
    "plt.title(\"Southern Hemisphere - Humidity(%) Vs. Latitude\")\n",
    "plt.xlabel(\"Latitude\")\n",
    "plt.ylabel(\"Humidity(%\")\n",
    "print(f\"The r-value is: {rvalue:.2f}\") \n",
    "plt.show()"
   ]
  },
  {
   "cell_type": "code",
   "execution_count": 6,
   "metadata": {},
   "outputs": [
    {
     "output_type": "stream",
     "name": "stdout",
     "text": [
      "There is a slight negative linear relationship in the southern Hhemisphere. As the ddistance from the equator decreases. Humidity decreases.\n"
     ]
    }
   ],
   "source": [
    "print(f'There is a slight negative linear relationship in the southern Hhemisphere. As the ddistance from the equator decreases. Humidity decreases.' )"
   ]
  },
  {
   "cell_type": "markdown",
   "metadata": {},
   "source": [
    "####  Northern Hemisphere - Cloudiness (%) vs. Latitude Linear Regression"
   ]
  },
  {
   "cell_type": "code",
   "execution_count": null,
   "metadata": {},
   "outputs": [],
   "source": [
    "# plot and perform regressiona analysis for the nothern hemisphere, Cloudiness(%) vs. Latitude\n",
    "x_axis = Northern_Hemisphere_df[\"Lat\"]\n",
    "y_axis = Northern_Hemisphere_df[\"Cloudiness\"]\n",
    "(slope, intercept, rvalue, pvalue, stderr) = linregress(x_axis, y_axis)\n",
    "regress_values = x_axis * slope + intercept\n",
    "line_eq = \"y = \" + str(round(slope,2)) + \"x + \" + str(round(intercept,2))\n",
    "plt.scatter(x_axis,y_axis)\n",
    "plt.plot(x_axis,regress_values,\"r-\")\n",
    "plt.annotate(line_eq,(6,10),fontsize=15,color=\"red\")\n",
    "plt.title(\"Northern Hemisphere - Cloudiness(%) Vs. Latitude\")\n",
    "plt.xlabel(\"Latitude\")\n",
    "plt.ylabel(\"Cloudiness(%\")\n",
    "print(f\"The r-value is: {rvalue:.2f}\") \n",
    "plt.show()"
   ]
  },
  {
   "cell_type": "code",
   "execution_count": 7,
   "metadata": {},
   "outputs": [
    {
     "output_type": "stream",
     "name": "stdout",
     "text": [
      "There is a very slight positve libear realtionship. Only slighty is there a higher percentage of clouds fruther away from the equator.\n"
     ]
    }
   ],
   "source": [
    "print(f'There is a very slight positve libear realtionship. Only slighty is there a higher percentage of clouds fruther away from the equator.')"
   ]
  },
  {
   "cell_type": "markdown",
   "metadata": {},
   "source": [
    "####  Southern Hemisphere - Cloudiness (%) vs. Latitude Linear Regression"
   ]
  },
  {
   "cell_type": "code",
   "execution_count": null,
   "metadata": {},
   "outputs": [],
   "source": [
    "# plot and perform regressiona analysis for the southern hemisphere, Cloudiness(%) vs. Latitude\n",
    "x_axis = southern_Hemisphere_df[\"Lat\"]\n",
    "y_axis = southern_Hemisphere_df[\"Cloudiness\"]\n",
    "(slope, intercept, rvalue, pvalue, stderr) = linregress(x_axis, y_axis)\n",
    "regress_values = x_axis * slope + intercept\n",
    "line_eq = \"y = \" + str(round(slope,2)) + \"x + \" + str(round(intercept,2))\n",
    "plt.scatter(x_axis,y_axis)\n",
    "plt.plot(x_axis,regress_values,\"r-\")\n",
    "plt.annotate(line_eq,(6,10),fontsize=15,color=\"red\")\n",
    "plt.title(\"Southern Hemisphere - Cloudiness(%) Vs. Latitude\")\n",
    "plt.xlabel(\"Latitude\")\n",
    "plt.ylabel(\"Cloudiness(%\")\n",
    "print(f\"The r-value is: {rvalue:.2f}\") \n",
    "plt.show()"
   ]
  },
  {
   "cell_type": "code",
   "execution_count": 8,
   "metadata": {},
   "outputs": [
    {
     "output_type": "stream",
     "name": "stdout",
     "text": [
      "There is a slight neagtive linear relationshiprThere is a lower percentage of clouds closer to the equator.\n"
     ]
    }
   ],
   "source": [
    "print(f'There is a slight neagtive linear relationshiprThere is a lower percentage of clouds closer to the equator.')"
   ]
  },
  {
   "cell_type": "markdown",
   "metadata": {},
   "source": [
    "####  Northern Hemisphere - Wind Speed (mph) vs. Latitude Linear Regression"
   ]
  },
  {
   "cell_type": "code",
   "execution_count": null,
   "metadata": {},
   "outputs": [],
   "source": [
    "# plot and perform regressiona analysis for the nothern hemisphere, Wind Speed (mph) vs. Latitude\n",
    "x_axis = Northern_Hemisphere_df[\"Lat\"]\n",
    "y_axis = Northern_Hemisphere_df[\"Wind Speed\"]\n",
    "(slope, intercept, rvalue, pvalue, stderr) = linregress(x_axis, y_axis)\n",
    "regress_values = x_axis * slope + intercept\n",
    "line_eq = \"y = \" + str(round(slope,2)) + \"x + \" + str(round(intercept,2))\n",
    "plt.scatter(x_axis,y_axis)\n",
    "plt.plot(x_axis,regress_values,\"r-\")\n",
    "plt.annotate(line_eq,(6,10),fontsize=15,color=\"red\")\n",
    "plt.title(\"Northern Hemisphere - Wind Speed(mph) Vs. Latitude\")\n",
    "plt.xlabel(\"Latitude\")\n",
    "plt.ylabel(\"Wind Speed(mph)\")\n",
    "print(f\"The r-value is: {rvalue:.2f}\") \n",
    "plt.show()"
   ]
  },
  {
   "cell_type": "code",
   "execution_count": 9,
   "metadata": {},
   "outputs": [
    {
     "output_type": "stream",
     "name": "stdout",
     "text": [
      "There is a positive linear relationship. As the disctance from the equator increaes the wind speed increases.\n"
     ]
    }
   ],
   "source": [
    "print(f'There is a positive linear relationship. As the disctance from the equator increaes the wind speed increases.')"
   ]
  },
  {
   "cell_type": "markdown",
   "metadata": {},
   "source": [
    "####  Southern Hemisphere - Wind Speed (mph) vs. Latitude Linear Regression"
   ]
  },
  {
   "cell_type": "code",
   "execution_count": null,
   "metadata": {},
   "outputs": [],
   "source": [
    "# plot and perform regressiona analysis for the southern hemisphere, Wind Speed (mph) vs. Latitude\n",
    "x_axis = southern_Hemisphere_df[\"Lat\"]\n",
    "y_axis = southern_Hemisphere_df[\"Wind Speed\"]\n",
    "(slope, intercept, rvalue, pvalue, stderr) = linregress(x_axis, y_axis)\n",
    "regress_values = x_axis * slope + intercept\n",
    "line_eq = \"y = \" + str(round(slope,2)) + \"x + \" + str(round(intercept,2))\n",
    "plt.scatter(x_axis,y_axis)\n",
    "plt.plot(x_axis,regress_values,\"r-\")\n",
    "plt.annotate(line_eq,(6,10),fontsize=15,color=\"red\")\n",
    "plt.title(\"Southern Hemisphere - Wind Speed(mph) Vs. Latitude\")\n",
    "plt.xlabel(\"Latitude\")\n",
    "plt.ylabel(\"Wind Speed(mph)\")\n",
    "print(f\"The r-value is: {rvalue:.2f}\") \n",
    "plt.show()"
   ]
  },
  {
   "cell_type": "code",
   "execution_count": 10,
   "metadata": {},
   "outputs": [
    {
     "output_type": "stream",
     "name": "stdout",
     "text": [
      "There is a negative linear relationship. As the distance from the equator decreases the wind speed also decreases.\n"
     ]
    }
   ],
   "source": [
    "print(f'There is a negative linear relationship. As the distance from the equator decreases the wind speed also decreases.')"
   ]
  },
  {
   "cell_type": "code",
   "execution_count": null,
   "metadata": {},
   "outputs": [],
   "source": []
  }
 ],
 "metadata": {
  "anaconda-cloud": {},
  "kernel_info": {
   "name": "python3"
  },
  "kernelspec": {
   "name": "python3",
   "display_name": "Python 3.8.3 64-bit ('projects2': conda)",
   "metadata": {
    "interpreter": {
     "hash": "e0bbdbaac3aac42858277d4951b427a2d738614699e88fe238771b46d984d02c"
    }
   }
  },
  "language_info": {
   "codemirror_mode": {
    "name": "ipython",
    "version": 3
   },
   "file_extension": ".py",
   "mimetype": "text/x-python",
   "name": "python",
   "nbconvert_exporter": "python",
   "pygments_lexer": "ipython3",
   "version": "3.8.3-final"
  },
  "latex_envs": {
   "LaTeX_envs_menu_present": true,
   "autoclose": false,
   "autocomplete": true,
   "bibliofile": "biblio.bib",
   "cite_by": "apalike",
   "current_citInitial": 1,
   "eqLabelWithNumbers": true,
   "eqNumInitial": 1,
   "hotkeys": {
    "equation": "Ctrl-E",
    "itemize": "Ctrl-I"
   },
   "labels_anchors": false,
   "latex_user_defs": false,
   "report_style_numbering": false,
   "user_envs_cfg": false
  },
  "nteract": {
   "version": "0.12.3"
  }
 },
 "nbformat": 4,
 "nbformat_minor": 2
}