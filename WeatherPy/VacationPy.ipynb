{
 "cells": [
  {
   "cell_type": "markdown",
   "metadata": {},
   "source": [
    "# VacationPy\n",
    "----\n",
    "\n",
    "#### Note\n",
    "* Keep an eye on your API usage. Use https://developers.google.com/maps/reporting/gmp-reporting as reference for how to monitor your usage and billing.\n",
    "\n",
    "* Instructions have been included for each segment. You do not have to follow them exactly, but they are included to help you think through the steps."
   ]
  },
  {
   "cell_type": "code",
   "execution_count": 26,
   "metadata": {},
   "outputs": [],
   "source": [
    "# Dependencies and Setup\n",
    "import matplotlib.pyplot as plt\n",
    "import pandas as pd\n",
    "import numpy as np\n",
    "import requests\n",
    "import gmaps\n",
    "import os\n",
    "\n",
    "# Import API key\n",
    "from api_keys import g_key"
   ]
  },
  {
   "cell_type": "markdown",
   "metadata": {},
   "source": [
    "### Store Part I results into DataFrame\n",
    "* Load the csv exported in Part I to a DataFrame"
   ]
  },
  {
   "cell_type": "code",
   "execution_count": 27,
   "metadata": {},
   "outputs": [
    {
     "output_type": "execute_result",
     "data": {
      "text/plain": [
       "     Unnamed: 0            City      Lat       Lng  Max Temp  Humidity  \\\n",
       "0             0  Guerrero Negro  27.9769 -114.0611     65.77        65   \n",
       "1             1           Vaini -21.2000 -175.2000     79.74        84   \n",
       "2             2           Birao  10.2849   22.7882     71.87        24   \n",
       "3             3     New Norfolk -42.7826  147.0587     70.74        47   \n",
       "4             4          Inongo  -1.9500   18.2667     70.75        94   \n",
       "..          ...             ...      ...       ...       ...       ...   \n",
       "555         555             Hof  50.3167   11.9167     40.69        90   \n",
       "556         556    Kruisfontein -34.0033   24.7314     61.18        88   \n",
       "557         557           Kalat  29.0225   66.5916     51.71        47   \n",
       "558         558       Vestmanna  62.1564   -7.1664     48.61        91   \n",
       "559         559         Aksarka  66.5606   67.7975     -4.79        92   \n",
       "\n",
       "     Cloudiness  Wind Speed Country        Date  \n",
       "0            55       11.43      MX  1605236400  \n",
       "1            58       13.98      TO  1605236400  \n",
       "2             5        6.62      CF  1605236400  \n",
       "3            76        7.61      AU  1605236400  \n",
       "4            97        4.27      CD  1605236400  \n",
       "..          ...         ...     ...         ...  \n",
       "555          69        5.06      DE  1605236400  \n",
       "556           0        5.93      ZA  1605236400  \n",
       "557          15        4.88      PK  1605236400  \n",
       "558         100       19.69      FO  1605236400  \n",
       "559          93        6.29      RU  1605236400  \n",
       "\n",
       "[560 rows x 10 columns]"
      ],
      "text/html": "<div>\n<style scoped>\n    .dataframe tbody tr th:only-of-type {\n        vertical-align: middle;\n    }\n\n    .dataframe tbody tr th {\n        vertical-align: top;\n    }\n\n    .dataframe thead th {\n        text-align: right;\n    }\n</style>\n<table border=\"1\" class=\"dataframe\">\n  <thead>\n    <tr style=\"text-align: right;\">\n      <th></th>\n      <th>Unnamed: 0</th>\n      <th>City</th>\n      <th>Lat</th>\n      <th>Lng</th>\n      <th>Max Temp</th>\n      <th>Humidity</th>\n      <th>Cloudiness</th>\n      <th>Wind Speed</th>\n      <th>Country</th>\n      <th>Date</th>\n    </tr>\n  </thead>\n  <tbody>\n    <tr>\n      <th>0</th>\n      <td>0</td>\n      <td>Guerrero Negro</td>\n      <td>27.9769</td>\n      <td>-114.0611</td>\n      <td>65.77</td>\n      <td>65</td>\n      <td>55</td>\n      <td>11.43</td>\n      <td>MX</td>\n      <td>1605236400</td>\n    </tr>\n    <tr>\n      <th>1</th>\n      <td>1</td>\n      <td>Vaini</td>\n      <td>-21.2000</td>\n      <td>-175.2000</td>\n      <td>79.74</td>\n      <td>84</td>\n      <td>58</td>\n      <td>13.98</td>\n      <td>TO</td>\n      <td>1605236400</td>\n    </tr>\n    <tr>\n      <th>2</th>\n      <td>2</td>\n      <td>Birao</td>\n      <td>10.2849</td>\n      <td>22.7882</td>\n      <td>71.87</td>\n      <td>24</td>\n      <td>5</td>\n      <td>6.62</td>\n      <td>CF</td>\n      <td>1605236400</td>\n    </tr>\n    <tr>\n      <th>3</th>\n      <td>3</td>\n      <td>New Norfolk</td>\n      <td>-42.7826</td>\n      <td>147.0587</td>\n      <td>70.74</td>\n      <td>47</td>\n      <td>76</td>\n      <td>7.61</td>\n      <td>AU</td>\n      <td>1605236400</td>\n    </tr>\n    <tr>\n      <th>4</th>\n      <td>4</td>\n      <td>Inongo</td>\n      <td>-1.9500</td>\n      <td>18.2667</td>\n      <td>70.75</td>\n      <td>94</td>\n      <td>97</td>\n      <td>4.27</td>\n      <td>CD</td>\n      <td>1605236400</td>\n    </tr>\n    <tr>\n      <th>...</th>\n      <td>...</td>\n      <td>...</td>\n      <td>...</td>\n      <td>...</td>\n      <td>...</td>\n      <td>...</td>\n      <td>...</td>\n      <td>...</td>\n      <td>...</td>\n      <td>...</td>\n    </tr>\n    <tr>\n      <th>555</th>\n      <td>555</td>\n      <td>Hof</td>\n      <td>50.3167</td>\n      <td>11.9167</td>\n      <td>40.69</td>\n      <td>90</td>\n      <td>69</td>\n      <td>5.06</td>\n      <td>DE</td>\n      <td>1605236400</td>\n    </tr>\n    <tr>\n      <th>556</th>\n      <td>556</td>\n      <td>Kruisfontein</td>\n      <td>-34.0033</td>\n      <td>24.7314</td>\n      <td>61.18</td>\n      <td>88</td>\n      <td>0</td>\n      <td>5.93</td>\n      <td>ZA</td>\n      <td>1605236400</td>\n    </tr>\n    <tr>\n      <th>557</th>\n      <td>557</td>\n      <td>Kalat</td>\n      <td>29.0225</td>\n      <td>66.5916</td>\n      <td>51.71</td>\n      <td>47</td>\n      <td>15</td>\n      <td>4.88</td>\n      <td>PK</td>\n      <td>1605236400</td>\n    </tr>\n    <tr>\n      <th>558</th>\n      <td>558</td>\n      <td>Vestmanna</td>\n      <td>62.1564</td>\n      <td>-7.1664</td>\n      <td>48.61</td>\n      <td>91</td>\n      <td>100</td>\n      <td>19.69</td>\n      <td>FO</td>\n      <td>1605236400</td>\n    </tr>\n    <tr>\n      <th>559</th>\n      <td>559</td>\n      <td>Aksarka</td>\n      <td>66.5606</td>\n      <td>67.7975</td>\n      <td>-4.79</td>\n      <td>92</td>\n      <td>93</td>\n      <td>6.29</td>\n      <td>RU</td>\n      <td>1605236400</td>\n    </tr>\n  </tbody>\n</table>\n<p>560 rows × 10 columns</p>\n</div>"
     },
     "metadata": {},
     "execution_count": 27
    }
   ],
   "source": [
    "Vacation_pd = pd.read_csv(\"Resources/Weather_Output.csv\")\n",
    "Vacation_pd\n"
   ]
  },
  {
   "cell_type": "markdown",
   "metadata": {},
   "source": [
    "### Humidity Heatmap\n",
    "* Configure gmaps.\n",
    "* Use the Lat and Lng as locations and Humidity as the weight.\n",
    "* Add Heatmap layer to map."
   ]
  },
  {
   "cell_type": "code",
   "execution_count": 28,
   "metadata": {},
   "outputs": [],
   "source": [
    "gmaps.configure(api_key=g_key)\n",
    "locations = Vacation_pd[[\"Lat\", \"Lng\"]]\n",
    "Humidity = Vacation_pd[\"Humidity\"].astype(float)"
   ]
  },
  {
   "cell_type": "code",
   "execution_count": 29,
   "metadata": {},
   "outputs": [],
   "source": [
    "gmaps.configure(api_key=g_key)\n",
    "heat_layer = gmaps.heatmap_layer(locations, weights=Humidity, \n",
    "                                 dissipating=False, max_intensity=10,\n",
    "                                 point_radius=1)"
   ]
  },
  {
   "cell_type": "markdown",
   "metadata": {},
   "source": [
    "### Create new DataFrame fitting weather criteria\n",
    "* Narrow down the cities to fit weather conditions.\n",
    "* Drop any rows will null values."
   ]
  },
  {
   "cell_type": "code",
   "execution_count": 33,
   "metadata": {},
   "outputs": [
    {
     "output_type": "execute_result",
     "data": {
      "text/plain": [
       "     Unnamed: 0            City      Lat       Lng  Max Temp  Humidity  \\\n",
       "0             0  Guerrero Negro  27.9769 -114.0611     65.77        65   \n",
       "1             1           Vaini -21.2000 -175.2000     79.74        84   \n",
       "2             2           Birao  10.2849   22.7882     71.87        24   \n",
       "3             3     New Norfolk -42.7826  147.0587     70.74        47   \n",
       "4             4          Inongo  -1.9500   18.2667     70.75        94   \n",
       "..          ...             ...      ...       ...       ...       ...   \n",
       "555         555             Hof  50.3167   11.9167     40.69        90   \n",
       "556         556    Kruisfontein -34.0033   24.7314     61.18        88   \n",
       "557         557           Kalat  29.0225   66.5916     51.71        47   \n",
       "558         558       Vestmanna  62.1564   -7.1664     48.61        91   \n",
       "559         559         Aksarka  66.5606   67.7975     -4.79        92   \n",
       "\n",
       "     Cloudiness  Wind Speed Country        Date  \n",
       "0            55       11.43      MX  1605236400  \n",
       "1            58       13.98      TO  1605236400  \n",
       "2             5        6.62      CF  1605236400  \n",
       "3            76        7.61      AU  1605236400  \n",
       "4            97        4.27      CD  1605236400  \n",
       "..          ...         ...     ...         ...  \n",
       "555          69        5.06      DE  1605236400  \n",
       "556           0        5.93      ZA  1605236400  \n",
       "557          15        4.88      PK  1605236400  \n",
       "558         100       19.69      FO  1605236400  \n",
       "559          93        6.29      RU  1605236400  \n",
       "\n",
       "[556 rows x 10 columns]"
      ],
      "text/html": "<div>\n<style scoped>\n    .dataframe tbody tr th:only-of-type {\n        vertical-align: middle;\n    }\n\n    .dataframe tbody tr th {\n        vertical-align: top;\n    }\n\n    .dataframe thead th {\n        text-align: right;\n    }\n</style>\n<table border=\"1\" class=\"dataframe\">\n  <thead>\n    <tr style=\"text-align: right;\">\n      <th></th>\n      <th>Unnamed: 0</th>\n      <th>City</th>\n      <th>Lat</th>\n      <th>Lng</th>\n      <th>Max Temp</th>\n      <th>Humidity</th>\n      <th>Cloudiness</th>\n      <th>Wind Speed</th>\n      <th>Country</th>\n      <th>Date</th>\n    </tr>\n  </thead>\n  <tbody>\n    <tr>\n      <th>0</th>\n      <td>0</td>\n      <td>Guerrero Negro</td>\n      <td>27.9769</td>\n      <td>-114.0611</td>\n      <td>65.77</td>\n      <td>65</td>\n      <td>55</td>\n      <td>11.43</td>\n      <td>MX</td>\n      <td>1605236400</td>\n    </tr>\n    <tr>\n      <th>1</th>\n      <td>1</td>\n      <td>Vaini</td>\n      <td>-21.2000</td>\n      <td>-175.2000</td>\n      <td>79.74</td>\n      <td>84</td>\n      <td>58</td>\n      <td>13.98</td>\n      <td>TO</td>\n      <td>1605236400</td>\n    </tr>\n    <tr>\n      <th>2</th>\n      <td>2</td>\n      <td>Birao</td>\n      <td>10.2849</td>\n      <td>22.7882</td>\n      <td>71.87</td>\n      <td>24</td>\n      <td>5</td>\n      <td>6.62</td>\n      <td>CF</td>\n      <td>1605236400</td>\n    </tr>\n    <tr>\n      <th>3</th>\n      <td>3</td>\n      <td>New Norfolk</td>\n      <td>-42.7826</td>\n      <td>147.0587</td>\n      <td>70.74</td>\n      <td>47</td>\n      <td>76</td>\n      <td>7.61</td>\n      <td>AU</td>\n      <td>1605236400</td>\n    </tr>\n    <tr>\n      <th>4</th>\n      <td>4</td>\n      <td>Inongo</td>\n      <td>-1.9500</td>\n      <td>18.2667</td>\n      <td>70.75</td>\n      <td>94</td>\n      <td>97</td>\n      <td>4.27</td>\n      <td>CD</td>\n      <td>1605236400</td>\n    </tr>\n    <tr>\n      <th>...</th>\n      <td>...</td>\n      <td>...</td>\n      <td>...</td>\n      <td>...</td>\n      <td>...</td>\n      <td>...</td>\n      <td>...</td>\n      <td>...</td>\n      <td>...</td>\n      <td>...</td>\n    </tr>\n    <tr>\n      <th>555</th>\n      <td>555</td>\n      <td>Hof</td>\n      <td>50.3167</td>\n      <td>11.9167</td>\n      <td>40.69</td>\n      <td>90</td>\n      <td>69</td>\n      <td>5.06</td>\n      <td>DE</td>\n      <td>1605236400</td>\n    </tr>\n    <tr>\n      <th>556</th>\n      <td>556</td>\n      <td>Kruisfontein</td>\n      <td>-34.0033</td>\n      <td>24.7314</td>\n      <td>61.18</td>\n      <td>88</td>\n      <td>0</td>\n      <td>5.93</td>\n      <td>ZA</td>\n      <td>1605236400</td>\n    </tr>\n    <tr>\n      <th>557</th>\n      <td>557</td>\n      <td>Kalat</td>\n      <td>29.0225</td>\n      <td>66.5916</td>\n      <td>51.71</td>\n      <td>47</td>\n      <td>15</td>\n      <td>4.88</td>\n      <td>PK</td>\n      <td>1605236400</td>\n    </tr>\n    <tr>\n      <th>558</th>\n      <td>558</td>\n      <td>Vestmanna</td>\n      <td>62.1564</td>\n      <td>-7.1664</td>\n      <td>48.61</td>\n      <td>91</td>\n      <td>100</td>\n      <td>19.69</td>\n      <td>FO</td>\n      <td>1605236400</td>\n    </tr>\n    <tr>\n      <th>559</th>\n      <td>559</td>\n      <td>Aksarka</td>\n      <td>66.5606</td>\n      <td>67.7975</td>\n      <td>-4.79</td>\n      <td>92</td>\n      <td>93</td>\n      <td>6.29</td>\n      <td>RU</td>\n      <td>1605236400</td>\n    </tr>\n  </tbody>\n</table>\n<p>556 rows × 10 columns</p>\n</div>"
     },
     "metadata": {},
     "execution_count": 33
    }
   ],
   "source": [
    "Vacation_pd.isna\n",
    "Vacation_clean_df=Vacation_pd.dropna()\n",
    "Vacation_clean_df"
   ]
  },
  {
   "cell_type": "markdown",
   "metadata": {},
   "source": [
    "### Hotel Map\n",
    "* Store into variable named `hotel_df`.\n",
    "* Add a \"Hotel Name\" column to the DataFrame.\n",
    "* Set parameters to search for hotels with 5000 meters.\n",
    "* Hit the Google Places API for each city's coordinates.\n",
    "* Store the first Hotel result into the DataFrame.\n",
    "* Plot markers on top of the heatmap."
   ]
  },
  {
   "cell_type": "code",
   "execution_count": null,
   "metadata": {},
   "outputs": [],
   "source": []
  },
  {
   "cell_type": "code",
   "execution_count": null,
   "metadata": {},
   "outputs": [],
   "source": []
  },
  {
   "cell_type": "code",
   "execution_count": 30,
   "metadata": {},
   "outputs": [
    {
     "output_type": "error",
     "ename": "NameError",
     "evalue": "name 'hotel_df' is not defined",
     "traceback": [
      "\u001b[1;31m---------------------------------------------------------------------------\u001b[0m",
      "\u001b[1;31mNameError\u001b[0m                                 Traceback (most recent call last)",
      "\u001b[1;32m<ipython-input-30-464b2b3e63ad>\u001b[0m in \u001b[0;36m<module>\u001b[1;34m\u001b[0m\n\u001b[0;32m     11\u001b[0m \u001b[1;31m# Store the DataFrame Row\u001b[0m\u001b[1;33m\u001b[0m\u001b[1;33m\u001b[0m\u001b[1;33m\u001b[0m\u001b[0m\n\u001b[0;32m     12\u001b[0m \u001b[1;31m# NOTE: be sure to update with your DataFrame name\u001b[0m\u001b[1;33m\u001b[0m\u001b[1;33m\u001b[0m\u001b[1;33m\u001b[0m\u001b[0m\n\u001b[1;32m---> 13\u001b[1;33m \u001b[0mhotel_info\u001b[0m \u001b[1;33m=\u001b[0m \u001b[1;33m[\u001b[0m\u001b[0minfo_box_template\u001b[0m\u001b[1;33m.\u001b[0m\u001b[0mformat\u001b[0m\u001b[1;33m(\u001b[0m\u001b[1;33m**\u001b[0m\u001b[0mrow\u001b[0m\u001b[1;33m)\u001b[0m \u001b[1;32mfor\u001b[0m \u001b[0mindex\u001b[0m\u001b[1;33m,\u001b[0m \u001b[0mrow\u001b[0m \u001b[1;32min\u001b[0m \u001b[0mhotel_df\u001b[0m\u001b[1;33m.\u001b[0m\u001b[0miterrows\u001b[0m\u001b[1;33m(\u001b[0m\u001b[1;33m)\u001b[0m\u001b[1;33m]\u001b[0m\u001b[1;33m\u001b[0m\u001b[1;33m\u001b[0m\u001b[0m\n\u001b[0m\u001b[0;32m     14\u001b[0m \u001b[0mlocations\u001b[0m \u001b[1;33m=\u001b[0m \u001b[0mhotel_df\u001b[0m\u001b[1;33m[\u001b[0m\u001b[1;33m[\u001b[0m\u001b[1;34m\"Lat\"\u001b[0m\u001b[1;33m,\u001b[0m \u001b[1;34m\"Lng\"\u001b[0m\u001b[1;33m]\u001b[0m\u001b[1;33m]\u001b[0m\u001b[1;33m\u001b[0m\u001b[1;33m\u001b[0m\u001b[0m\n",
      "\u001b[1;31mNameError\u001b[0m: name 'hotel_df' is not defined"
     ]
    }
   ],
   "source": [
    "# NOTE: Do not change any of the code in this cell\n",
    "\n",
    "# Using the template add the hotel marks to the heatmap\n",
    "info_box_template = \"\"\"\n",
    "<dl>\n",
    "<dt>Name</dt><dd>{Hotel Name}</dd>\n",
    "<dt>City</dt><dd>{City}</dd>\n",
    "<dt>Country</dt><dd>{Country}</dd>\n",
    "</dl>\n",
    "\"\"\"\n",
    "# Store the DataFrame Row\n",
    "# NOTE: be sure to update with your DataFrame name\n",
    "hotel_info = [info_box_template.format(**row) for index, row in hotel_df.iterrows()]\n",
    "locations = hotel_df[[\"Lat\", \"Lng\"]]"
   ]
  },
  {
   "cell_type": "code",
   "execution_count": null,
   "metadata": {},
   "outputs": [],
   "source": [
    "# Add marker layer ontop of heat map\n",
    "\n",
    "\n",
    "# Display figure\n"
   ]
  },
  {
   "cell_type": "code",
   "execution_count": null,
   "metadata": {},
   "outputs": [],
   "source": []
  }
 ],
 "metadata": {
  "kernelspec": {
   "name": "python3",
   "display_name": "Python 3.8.3 64-bit ('projects2': conda)",
   "metadata": {
    "interpreter": {
     "hash": "e0bbdbaac3aac42858277d4951b427a2d738614699e88fe238771b46d984d02c"
    }
   }
  },
  "language_info": {
   "codemirror_mode": {
    "name": "ipython",
    "version": 3
   },
   "file_extension": ".py",
   "mimetype": "text/x-python",
   "name": "python",
   "nbconvert_exporter": "python",
   "pygments_lexer": "ipython3",
   "version": "3.8.3-final"
  },
  "latex_envs": {
   "LaTeX_envs_menu_present": true,
   "autoclose": false,
   "autocomplete": true,
   "bibliofile": "biblio.bib",
   "cite_by": "apalike",
   "current_citInitial": 1,
   "eqLabelWithNumbers": true,
   "eqNumInitial": 1,
   "hotkeys": {
    "equation": "Ctrl-E",
    "itemize": "Ctrl-I"
   },
   "labels_anchors": false,
   "latex_user_defs": false,
   "report_style_numbering": false,
   "user_envs_cfg": false
  }
 },
 "nbformat": 4,
 "nbformat_minor": 4
}