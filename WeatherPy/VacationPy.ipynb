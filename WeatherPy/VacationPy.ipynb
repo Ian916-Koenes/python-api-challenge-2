{
 "cells": [
  {
   "cell_type": "markdown",
   "metadata": {},
   "source": [
    "# VacationPy\n",
    "----\n",
    "\n",
    "#### Note\n",
    "* Keep an eye on your API usage. Use https://developers.google.com/maps/reporting/gmp-reporting as reference for how to monitor your usage and billing.\n",
    "\n",
    "* Instructions have been included for each segment. You do not have to follow them exactly, but they are included to help you think through the steps."
   ]
  },
  {
   "cell_type": "code",
   "execution_count": 89,
   "metadata": {},
   "outputs": [],
   "source": [
    "# Dependencies and Setup\n",
    "import matplotlib.pyplot as plt\n",
    "import pandas as pd\n",
    "import numpy as np\n",
    "import requests\n",
    "import gmaps\n",
    "import os\n",
    "\n",
    "# Import API key\n",
    "from api_keys import g_key"
   ]
  },
  {
   "cell_type": "markdown",
   "metadata": {},
   "source": [
    "### Store Part I results into DataFrame\n",
    "* Load the csv exported in Part I to a DataFrame"
   ]
  },
  {
   "cell_type": "code",
   "execution_count": 90,
   "metadata": {},
   "outputs": [
    {
     "output_type": "execute_result",
     "data": {
      "text/plain": [
       "     Unnamed: 0            City      Lat       Lng  Max Temp  Humidity  \\\n",
       "0             0  Guerrero Negro  27.9769 -114.0611     65.77        65   \n",
       "1             1           Vaini -21.2000 -175.2000     79.74        84   \n",
       "2             2           Birao  10.2849   22.7882     71.87        24   \n",
       "3             3     New Norfolk -42.7826  147.0587     70.74        47   \n",
       "4             4          Inongo  -1.9500   18.2667     70.75        94   \n",
       "..          ...             ...      ...       ...       ...       ...   \n",
       "555         555             Hof  50.3167   11.9167     40.69        90   \n",
       "556         556    Kruisfontein -34.0033   24.7314     61.18        88   \n",
       "557         557           Kalat  29.0225   66.5916     51.71        47   \n",
       "558         558       Vestmanna  62.1564   -7.1664     48.61        91   \n",
       "559         559         Aksarka  66.5606   67.7975     -4.79        92   \n",
       "\n",
       "     Cloudiness  Wind Speed Country        Date  \n",
       "0            55       11.43      MX  1605236400  \n",
       "1            58       13.98      TO  1605236400  \n",
       "2             5        6.62      CF  1605236400  \n",
       "3            76        7.61      AU  1605236400  \n",
       "4            97        4.27      CD  1605236400  \n",
       "..          ...         ...     ...         ...  \n",
       "555          69        5.06      DE  1605236400  \n",
       "556           0        5.93      ZA  1605236400  \n",
       "557          15        4.88      PK  1605236400  \n",
       "558         100       19.69      FO  1605236400  \n",
       "559          93        6.29      RU  1605236400  \n",
       "\n",
       "[560 rows x 10 columns]"
      ],
      "text/html": "<div>\n<style scoped>\n    .dataframe tbody tr th:only-of-type {\n        vertical-align: middle;\n    }\n\n    .dataframe tbody tr th {\n        vertical-align: top;\n    }\n\n    .dataframe thead th {\n        text-align: right;\n    }\n</style>\n<table border=\"1\" class=\"dataframe\">\n  <thead>\n    <tr style=\"text-align: right;\">\n      <th></th>\n      <th>Unnamed: 0</th>\n      <th>City</th>\n      <th>Lat</th>\n      <th>Lng</th>\n      <th>Max Temp</th>\n      <th>Humidity</th>\n      <th>Cloudiness</th>\n      <th>Wind Speed</th>\n      <th>Country</th>\n      <th>Date</th>\n    </tr>\n  </thead>\n  <tbody>\n    <tr>\n      <th>0</th>\n      <td>0</td>\n      <td>Guerrero Negro</td>\n      <td>27.9769</td>\n      <td>-114.0611</td>\n      <td>65.77</td>\n      <td>65</td>\n      <td>55</td>\n      <td>11.43</td>\n      <td>MX</td>\n      <td>1605236400</td>\n    </tr>\n    <tr>\n      <th>1</th>\n      <td>1</td>\n      <td>Vaini</td>\n      <td>-21.2000</td>\n      <td>-175.2000</td>\n      <td>79.74</td>\n      <td>84</td>\n      <td>58</td>\n      <td>13.98</td>\n      <td>TO</td>\n      <td>1605236400</td>\n    </tr>\n    <tr>\n      <th>2</th>\n      <td>2</td>\n      <td>Birao</td>\n      <td>10.2849</td>\n      <td>22.7882</td>\n      <td>71.87</td>\n      <td>24</td>\n      <td>5</td>\n      <td>6.62</td>\n      <td>CF</td>\n      <td>1605236400</td>\n    </tr>\n    <tr>\n      <th>3</th>\n      <td>3</td>\n      <td>New Norfolk</td>\n      <td>-42.7826</td>\n      <td>147.0587</td>\n      <td>70.74</td>\n      <td>47</td>\n      <td>76</td>\n      <td>7.61</td>\n      <td>AU</td>\n      <td>1605236400</td>\n    </tr>\n    <tr>\n      <th>4</th>\n      <td>4</td>\n      <td>Inongo</td>\n      <td>-1.9500</td>\n      <td>18.2667</td>\n      <td>70.75</td>\n      <td>94</td>\n      <td>97</td>\n      <td>4.27</td>\n      <td>CD</td>\n      <td>1605236400</td>\n    </tr>\n    <tr>\n      <th>...</th>\n      <td>...</td>\n      <td>...</td>\n      <td>...</td>\n      <td>...</td>\n      <td>...</td>\n      <td>...</td>\n      <td>...</td>\n      <td>...</td>\n      <td>...</td>\n      <td>...</td>\n    </tr>\n    <tr>\n      <th>555</th>\n      <td>555</td>\n      <td>Hof</td>\n      <td>50.3167</td>\n      <td>11.9167</td>\n      <td>40.69</td>\n      <td>90</td>\n      <td>69</td>\n      <td>5.06</td>\n      <td>DE</td>\n      <td>1605236400</td>\n    </tr>\n    <tr>\n      <th>556</th>\n      <td>556</td>\n      <td>Kruisfontein</td>\n      <td>-34.0033</td>\n      <td>24.7314</td>\n      <td>61.18</td>\n      <td>88</td>\n      <td>0</td>\n      <td>5.93</td>\n      <td>ZA</td>\n      <td>1605236400</td>\n    </tr>\n    <tr>\n      <th>557</th>\n      <td>557</td>\n      <td>Kalat</td>\n      <td>29.0225</td>\n      <td>66.5916</td>\n      <td>51.71</td>\n      <td>47</td>\n      <td>15</td>\n      <td>4.88</td>\n      <td>PK</td>\n      <td>1605236400</td>\n    </tr>\n    <tr>\n      <th>558</th>\n      <td>558</td>\n      <td>Vestmanna</td>\n      <td>62.1564</td>\n      <td>-7.1664</td>\n      <td>48.61</td>\n      <td>91</td>\n      <td>100</td>\n      <td>19.69</td>\n      <td>FO</td>\n      <td>1605236400</td>\n    </tr>\n    <tr>\n      <th>559</th>\n      <td>559</td>\n      <td>Aksarka</td>\n      <td>66.5606</td>\n      <td>67.7975</td>\n      <td>-4.79</td>\n      <td>92</td>\n      <td>93</td>\n      <td>6.29</td>\n      <td>RU</td>\n      <td>1605236400</td>\n    </tr>\n  </tbody>\n</table>\n<p>560 rows × 10 columns</p>\n</div>"
     },
     "metadata": {},
     "execution_count": 90
    }
   ],
   "source": [
    "Vacation_pd = pd.read_csv(\"Resources/Weather_Output.csv\")\n",
    "Vacation_pd\n"
   ]
  },
  {
   "cell_type": "markdown",
   "metadata": {},
   "source": [
    "### Humidity Heatmap\n",
    "* Configure gmaps.\n",
    "* Use the Lat and Lng as locations and Humidity as the weight.\n",
    "* Add Heatmap layer to map."
   ]
  },
  {
   "cell_type": "code",
   "execution_count": 91,
   "metadata": {},
   "outputs": [],
   "source": [
    "gmaps.configure(api_key=g_key)\n",
    "locations = Vacation_pd[[\"Lat\", \"Lng\"]]\n",
    "Humidity = Vacation_pd[\"Humidity\"].astype(float)"
   ]
  },
  {
   "cell_type": "code",
   "execution_count": 92,
   "metadata": {},
   "outputs": [
    {
     "output_type": "display_data",
     "data": {
      "text/plain": "Figure(layout=FigureLayout(height='420px'))",
      "application/vnd.jupyter.widget-view+json": {
       "version_major": 2,
       "version_minor": 0,
       "model_id": "3e6973cc480b466489e261f801b1e837"
      }
     },
     "metadata": {}
    }
   ],
   "source": [
    "gmaps.configure(api_key=g_key)\n",
    "fig = gmaps.figure()\n",
    "heat_layer = gmaps.heatmap_layer(locations, weights=Humidity, \n",
    "                                 dissipating=False, max_intensity=100,\n",
    "                                 point_radius=3)\n",
    "fig.add_layer(heat_layer)\n",
    "fig"
   ]
  },
  {
   "cell_type": "markdown",
   "metadata": {},
   "source": [
    "### Create new DataFrame fitting weather criteria\n",
    "* Narrow down the cities to fit weather conditions.\n",
    "* Drop any rows will null values."
   ]
  },
  {
   "cell_type": "code",
   "execution_count": 93,
   "metadata": {},
   "outputs": [
    {
     "output_type": "execute_result",
     "data": {
      "text/plain": [
       "     Unnamed: 0                  City      Lat       Lng  Max Temp  Humidity  \\\n",
       "1             1                 Vaini -21.2000 -175.2000     79.74        84   \n",
       "12           12                   Pyu  18.4833   96.4333     79.00        81   \n",
       "15           15                 Kapaa  22.0752 -159.3190     79.25        68   \n",
       "31           31                Touros  -5.1989  -35.4608     78.76        77   \n",
       "34           34                Faanui -16.4833 -151.7500     79.90        73   \n",
       "..          ...                   ...      ...       ...       ...       ...   \n",
       "538         538             Takoradze   4.8845   -1.7554     78.71        86   \n",
       "543         543                Bonthe   7.5264  -12.5050     78.82        86   \n",
       "545         545                Nicoya  10.1483  -85.4520     76.59        94   \n",
       "551         551                 Kiama -34.6833  150.8667     77.61        62   \n",
       "554         554  Santo Antônio do Içá  -3.1022  -67.9397     76.53        92   \n",
       "\n",
       "     Cloudiness  Wind Speed Country        Date  \n",
       "1            58       13.98      TO  1605236400  \n",
       "12           17        5.79      MM  1605236400  \n",
       "15           29       17.02      US  1605236400  \n",
       "31           10       14.54      BR  1605236400  \n",
       "34           72        9.93      PF  1605236400  \n",
       "..          ...         ...     ...         ...  \n",
       "538           1        4.54      GH  1605236400  \n",
       "543           0        1.57      SL  1605236400  \n",
       "545          87        3.02      CR  1605236400  \n",
       "551          99        8.46      AU  1605236400  \n",
       "554          98        2.35      BR  1605236400  \n",
       "\n",
       "[110 rows x 10 columns]"
      ],
      "text/html": "<div>\n<style scoped>\n    .dataframe tbody tr th:only-of-type {\n        vertical-align: middle;\n    }\n\n    .dataframe tbody tr th {\n        vertical-align: top;\n    }\n\n    .dataframe thead th {\n        text-align: right;\n    }\n</style>\n<table border=\"1\" class=\"dataframe\">\n  <thead>\n    <tr style=\"text-align: right;\">\n      <th></th>\n      <th>Unnamed: 0</th>\n      <th>City</th>\n      <th>Lat</th>\n      <th>Lng</th>\n      <th>Max Temp</th>\n      <th>Humidity</th>\n      <th>Cloudiness</th>\n      <th>Wind Speed</th>\n      <th>Country</th>\n      <th>Date</th>\n    </tr>\n  </thead>\n  <tbody>\n    <tr>\n      <th>1</th>\n      <td>1</td>\n      <td>Vaini</td>\n      <td>-21.2000</td>\n      <td>-175.2000</td>\n      <td>79.74</td>\n      <td>84</td>\n      <td>58</td>\n      <td>13.98</td>\n      <td>TO</td>\n      <td>1605236400</td>\n    </tr>\n    <tr>\n      <th>12</th>\n      <td>12</td>\n      <td>Pyu</td>\n      <td>18.4833</td>\n      <td>96.4333</td>\n      <td>79.00</td>\n      <td>81</td>\n      <td>17</td>\n      <td>5.79</td>\n      <td>MM</td>\n      <td>1605236400</td>\n    </tr>\n    <tr>\n      <th>15</th>\n      <td>15</td>\n      <td>Kapaa</td>\n      <td>22.0752</td>\n      <td>-159.3190</td>\n      <td>79.25</td>\n      <td>68</td>\n      <td>29</td>\n      <td>17.02</td>\n      <td>US</td>\n      <td>1605236400</td>\n    </tr>\n    <tr>\n      <th>31</th>\n      <td>31</td>\n      <td>Touros</td>\n      <td>-5.1989</td>\n      <td>-35.4608</td>\n      <td>78.76</td>\n      <td>77</td>\n      <td>10</td>\n      <td>14.54</td>\n      <td>BR</td>\n      <td>1605236400</td>\n    </tr>\n    <tr>\n      <th>34</th>\n      <td>34</td>\n      <td>Faanui</td>\n      <td>-16.4833</td>\n      <td>-151.7500</td>\n      <td>79.90</td>\n      <td>73</td>\n      <td>72</td>\n      <td>9.93</td>\n      <td>PF</td>\n      <td>1605236400</td>\n    </tr>\n    <tr>\n      <th>...</th>\n      <td>...</td>\n      <td>...</td>\n      <td>...</td>\n      <td>...</td>\n      <td>...</td>\n      <td>...</td>\n      <td>...</td>\n      <td>...</td>\n      <td>...</td>\n      <td>...</td>\n    </tr>\n    <tr>\n      <th>538</th>\n      <td>538</td>\n      <td>Takoradze</td>\n      <td>4.8845</td>\n      <td>-1.7554</td>\n      <td>78.71</td>\n      <td>86</td>\n      <td>1</td>\n      <td>4.54</td>\n      <td>GH</td>\n      <td>1605236400</td>\n    </tr>\n    <tr>\n      <th>543</th>\n      <td>543</td>\n      <td>Bonthe</td>\n      <td>7.5264</td>\n      <td>-12.5050</td>\n      <td>78.82</td>\n      <td>86</td>\n      <td>0</td>\n      <td>1.57</td>\n      <td>SL</td>\n      <td>1605236400</td>\n    </tr>\n    <tr>\n      <th>545</th>\n      <td>545</td>\n      <td>Nicoya</td>\n      <td>10.1483</td>\n      <td>-85.4520</td>\n      <td>76.59</td>\n      <td>94</td>\n      <td>87</td>\n      <td>3.02</td>\n      <td>CR</td>\n      <td>1605236400</td>\n    </tr>\n    <tr>\n      <th>551</th>\n      <td>551</td>\n      <td>Kiama</td>\n      <td>-34.6833</td>\n      <td>150.8667</td>\n      <td>77.61</td>\n      <td>62</td>\n      <td>99</td>\n      <td>8.46</td>\n      <td>AU</td>\n      <td>1605236400</td>\n    </tr>\n    <tr>\n      <th>554</th>\n      <td>554</td>\n      <td>Santo Antônio do Içá</td>\n      <td>-3.1022</td>\n      <td>-67.9397</td>\n      <td>76.53</td>\n      <td>92</td>\n      <td>98</td>\n      <td>2.35</td>\n      <td>BR</td>\n      <td>1605236400</td>\n    </tr>\n  </tbody>\n</table>\n<p>110 rows × 10 columns</p>\n</div>"
     },
     "metadata": {},
     "execution_count": 93
    }
   ],
   "source": [
    "Vacation_conditional_df = Vacation_pd.loc[(Vacation_pd[\"Max Temp\"] >=75) & (Vacation_pd[\"Max Temp\"] <=80) ]\n",
    "#Vacation_pd.isna\n",
    "Vacation_clean_df=Vacation_conditional_df.dropna()\n",
    "Vacation_clean_df\n",
    "#Vacation_conditional_df"
   ]
  },
  {
   "cell_type": "markdown",
   "metadata": {},
   "source": [
    "### Hotel Map\n",
    "* Store into variable named `hotel_df`.\n",
    "* Add a \"Hotel Name\" column to the DataFrame.\n",
    "* Set parameters to search for hotels with 5000 meters.\n",
    "* Hit the Google Places API for each city's coordinates.\n",
    "* Store the first Hotel result into the DataFrame.\n",
    "* Plot markers on top of the heatmap."
   ]
  },
  {
   "cell_type": "code",
   "execution_count": 94,
   "metadata": {},
   "outputs": [
    {
     "output_type": "execute_result",
     "data": {
      "text/plain": [
       "     Unnamed: 0                  City      Lat       Lng  Max Temp  Humidity  \\\n",
       "1             1                 Vaini -21.2000 -175.2000     79.74        84   \n",
       "12           12                   Pyu  18.4833   96.4333     79.00        81   \n",
       "15           15                 Kapaa  22.0752 -159.3190     79.25        68   \n",
       "31           31                Touros  -5.1989  -35.4608     78.76        77   \n",
       "34           34                Faanui -16.4833 -151.7500     79.90        73   \n",
       "..          ...                   ...      ...       ...       ...       ...   \n",
       "538         538             Takoradze   4.8845   -1.7554     78.71        86   \n",
       "543         543                Bonthe   7.5264  -12.5050     78.82        86   \n",
       "545         545                Nicoya  10.1483  -85.4520     76.59        94   \n",
       "551         551                 Kiama -34.6833  150.8667     77.61        62   \n",
       "554         554  Santo Antônio do Içá  -3.1022  -67.9397     76.53        92   \n",
       "\n",
       "     Cloudiness  Wind Speed Country        Date Hotel Name  \n",
       "1            58       13.98      TO  1605236400             \n",
       "12           17        5.79      MM  1605236400             \n",
       "15           29       17.02      US  1605236400             \n",
       "31           10       14.54      BR  1605236400             \n",
       "34           72        9.93      PF  1605236400             \n",
       "..          ...         ...     ...         ...        ...  \n",
       "538           1        4.54      GH  1605236400             \n",
       "543           0        1.57      SL  1605236400             \n",
       "545          87        3.02      CR  1605236400             \n",
       "551          99        8.46      AU  1605236400             \n",
       "554          98        2.35      BR  1605236400             \n",
       "\n",
       "[110 rows x 11 columns]"
      ],
      "text/html": "<div>\n<style scoped>\n    .dataframe tbody tr th:only-of-type {\n        vertical-align: middle;\n    }\n\n    .dataframe tbody tr th {\n        vertical-align: top;\n    }\n\n    .dataframe thead th {\n        text-align: right;\n    }\n</style>\n<table border=\"1\" class=\"dataframe\">\n  <thead>\n    <tr style=\"text-align: right;\">\n      <th></th>\n      <th>Unnamed: 0</th>\n      <th>City</th>\n      <th>Lat</th>\n      <th>Lng</th>\n      <th>Max Temp</th>\n      <th>Humidity</th>\n      <th>Cloudiness</th>\n      <th>Wind Speed</th>\n      <th>Country</th>\n      <th>Date</th>\n      <th>Hotel Name</th>\n    </tr>\n  </thead>\n  <tbody>\n    <tr>\n      <th>1</th>\n      <td>1</td>\n      <td>Vaini</td>\n      <td>-21.2000</td>\n      <td>-175.2000</td>\n      <td>79.74</td>\n      <td>84</td>\n      <td>58</td>\n      <td>13.98</td>\n      <td>TO</td>\n      <td>1605236400</td>\n      <td></td>\n    </tr>\n    <tr>\n      <th>12</th>\n      <td>12</td>\n      <td>Pyu</td>\n      <td>18.4833</td>\n      <td>96.4333</td>\n      <td>79.00</td>\n      <td>81</td>\n      <td>17</td>\n      <td>5.79</td>\n      <td>MM</td>\n      <td>1605236400</td>\n      <td></td>\n    </tr>\n    <tr>\n      <th>15</th>\n      <td>15</td>\n      <td>Kapaa</td>\n      <td>22.0752</td>\n      <td>-159.3190</td>\n      <td>79.25</td>\n      <td>68</td>\n      <td>29</td>\n      <td>17.02</td>\n      <td>US</td>\n      <td>1605236400</td>\n      <td></td>\n    </tr>\n    <tr>\n      <th>31</th>\n      <td>31</td>\n      <td>Touros</td>\n      <td>-5.1989</td>\n      <td>-35.4608</td>\n      <td>78.76</td>\n      <td>77</td>\n      <td>10</td>\n      <td>14.54</td>\n      <td>BR</td>\n      <td>1605236400</td>\n      <td></td>\n    </tr>\n    <tr>\n      <th>34</th>\n      <td>34</td>\n      <td>Faanui</td>\n      <td>-16.4833</td>\n      <td>-151.7500</td>\n      <td>79.90</td>\n      <td>73</td>\n      <td>72</td>\n      <td>9.93</td>\n      <td>PF</td>\n      <td>1605236400</td>\n      <td></td>\n    </tr>\n    <tr>\n      <th>...</th>\n      <td>...</td>\n      <td>...</td>\n      <td>...</td>\n      <td>...</td>\n      <td>...</td>\n      <td>...</td>\n      <td>...</td>\n      <td>...</td>\n      <td>...</td>\n      <td>...</td>\n      <td>...</td>\n    </tr>\n    <tr>\n      <th>538</th>\n      <td>538</td>\n      <td>Takoradze</td>\n      <td>4.8845</td>\n      <td>-1.7554</td>\n      <td>78.71</td>\n      <td>86</td>\n      <td>1</td>\n      <td>4.54</td>\n      <td>GH</td>\n      <td>1605236400</td>\n      <td></td>\n    </tr>\n    <tr>\n      <th>543</th>\n      <td>543</td>\n      <td>Bonthe</td>\n      <td>7.5264</td>\n      <td>-12.5050</td>\n      <td>78.82</td>\n      <td>86</td>\n      <td>0</td>\n      <td>1.57</td>\n      <td>SL</td>\n      <td>1605236400</td>\n      <td></td>\n    </tr>\n    <tr>\n      <th>545</th>\n      <td>545</td>\n      <td>Nicoya</td>\n      <td>10.1483</td>\n      <td>-85.4520</td>\n      <td>76.59</td>\n      <td>94</td>\n      <td>87</td>\n      <td>3.02</td>\n      <td>CR</td>\n      <td>1605236400</td>\n      <td></td>\n    </tr>\n    <tr>\n      <th>551</th>\n      <td>551</td>\n      <td>Kiama</td>\n      <td>-34.6833</td>\n      <td>150.8667</td>\n      <td>77.61</td>\n      <td>62</td>\n      <td>99</td>\n      <td>8.46</td>\n      <td>AU</td>\n      <td>1605236400</td>\n      <td></td>\n    </tr>\n    <tr>\n      <th>554</th>\n      <td>554</td>\n      <td>Santo Antônio do Içá</td>\n      <td>-3.1022</td>\n      <td>-67.9397</td>\n      <td>76.53</td>\n      <td>92</td>\n      <td>98</td>\n      <td>2.35</td>\n      <td>BR</td>\n      <td>1605236400</td>\n      <td></td>\n    </tr>\n  </tbody>\n</table>\n<p>110 rows × 11 columns</p>\n</div>"
     },
     "metadata": {},
     "execution_count": 94
    }
   ],
   "source": [
    "hotel_df = Vacation_clean_df\n",
    "hotel_df[\"Hotel Name\"] = \"\"\n",
    "hotel_df \n",
    "\n"
   ]
  },
  {
   "cell_type": "code",
   "execution_count": 95,
   "metadata": {},
   "outputs": [
    {
     "output_type": "execute_result",
     "data": {
      "text/plain": [
       "         Lat       Lng\n",
       "1   -21.2000 -175.2000\n",
       "12   18.4833   96.4333\n",
       "15   22.0752 -159.3190\n",
       "31   -5.1989  -35.4608\n",
       "34  -16.4833 -151.7500\n",
       "..       ...       ...\n",
       "538   4.8845   -1.7554\n",
       "543   7.5264  -12.5050\n",
       "545  10.1483  -85.4520\n",
       "551 -34.6833  150.8667\n",
       "554  -3.1022  -67.9397\n",
       "\n",
       "[110 rows x 2 columns]"
      ],
      "text/html": "<div>\n<style scoped>\n    .dataframe tbody tr th:only-of-type {\n        vertical-align: middle;\n    }\n\n    .dataframe tbody tr th {\n        vertical-align: top;\n    }\n\n    .dataframe thead th {\n        text-align: right;\n    }\n</style>\n<table border=\"1\" class=\"dataframe\">\n  <thead>\n    <tr style=\"text-align: right;\">\n      <th></th>\n      <th>Lat</th>\n      <th>Lng</th>\n    </tr>\n  </thead>\n  <tbody>\n    <tr>\n      <th>1</th>\n      <td>-21.2000</td>\n      <td>-175.2000</td>\n    </tr>\n    <tr>\n      <th>12</th>\n      <td>18.4833</td>\n      <td>96.4333</td>\n    </tr>\n    <tr>\n      <th>15</th>\n      <td>22.0752</td>\n      <td>-159.3190</td>\n    </tr>\n    <tr>\n      <th>31</th>\n      <td>-5.1989</td>\n      <td>-35.4608</td>\n    </tr>\n    <tr>\n      <th>34</th>\n      <td>-16.4833</td>\n      <td>-151.7500</td>\n    </tr>\n    <tr>\n      <th>...</th>\n      <td>...</td>\n      <td>...</td>\n    </tr>\n    <tr>\n      <th>538</th>\n      <td>4.8845</td>\n      <td>-1.7554</td>\n    </tr>\n    <tr>\n      <th>543</th>\n      <td>7.5264</td>\n      <td>-12.5050</td>\n    </tr>\n    <tr>\n      <th>545</th>\n      <td>10.1483</td>\n      <td>-85.4520</td>\n    </tr>\n    <tr>\n      <th>551</th>\n      <td>-34.6833</td>\n      <td>150.8667</td>\n    </tr>\n    <tr>\n      <th>554</th>\n      <td>-3.1022</td>\n      <td>-67.9397</td>\n    </tr>\n  </tbody>\n</table>\n<p>110 rows × 2 columns</p>\n</div>"
     },
     "metadata": {},
     "execution_count": 95
    }
   ],
   "source": [
    "Hotel_location = Vacation_clean_df[[\"Lat\", \"Lng\"]]\n",
    "Hotel_location"
   ]
  },
  {
   "cell_type": "code",
   "execution_count": 96,
   "metadata": {},
   "outputs": [
    {
     "output_type": "stream",
     "name": "stdout",
     "text": [
      "Missing field/result... skipping.\n",
      "Missing field/result... skipping.\n",
      "Missing field/result... skipping.\n",
      "Missing field/result... skipping.\n"
     ]
    }
   ],
   "source": [
    "params = {\n",
    "    \"radius\": 5000,\n",
    "    \"type\": \"lodging\",\n",
    "    \"key\": g_key\n",
    "}\n",
    "for index, row in hotel_df.iterrows():\n",
    "    lat = row[\"Lat\"]\n",
    "    lng = row[\"Lng\"]\n",
    "\n",
    "    params[\"location\"] = f\"{lat},{lng}\" \n",
    "    \n",
    "    base_url = \"https://maps.googleapis.com/maps/api/place/nearbysearch/json\"\n",
    "    #location=location&radius=5000&type=lodging&key=g_key\"\n",
    "\n",
    "    name_address = requests.get(base_url, params=params)\n",
    "\n",
    "    name_address = name_address.json()\n",
    "\n",
    "    try:\n",
    "        hotel_df.loc[index, \"Hotel Name\"] = name_address[\"results\"][0][\"name\"]\n",
    "    except (KeyError, IndexError):\n",
    "         print(\"Missing field/result... skipping.\")"
   ]
  },
  {
   "cell_type": "code",
   "execution_count": 98,
   "metadata": {},
   "outputs": [
    {
     "output_type": "execute_result",
     "data": {
      "text/plain": [
       "    Unnamed: 0    City      Lat       Lng  Max Temp  Humidity  Cloudiness  \\\n",
       "1            1   Vaini -21.2000 -175.2000     79.74        84          58   \n",
       "12          12     Pyu  18.4833   96.4333     79.00        81          17   \n",
       "15          15   Kapaa  22.0752 -159.3190     79.25        68          29   \n",
       "31          31  Touros  -5.1989  -35.4608     78.76        77          10   \n",
       "34          34  Faanui -16.4833 -151.7500     79.90        73          72   \n",
       "\n",
       "    Wind Speed Country        Date                              Hotel Name  \n",
       "1        13.98      TO  1605236400                     Keleti Beach Resort  \n",
       "12        5.79      MM  1605236400                                Mr Bo Bo  \n",
       "15       17.02      US  1605236400  Sheraton Kauai Resort at Coconut Beach  \n",
       "31       14.54      BR  1605236400                         INN NEW HORIZON  \n",
       "34        9.93      PF  1605236400      Bora-Bora Pearl Beach Resort & Spa  "
      ],
      "text/html": "<div>\n<style scoped>\n    .dataframe tbody tr th:only-of-type {\n        vertical-align: middle;\n    }\n\n    .dataframe tbody tr th {\n        vertical-align: top;\n    }\n\n    .dataframe thead th {\n        text-align: right;\n    }\n</style>\n<table border=\"1\" class=\"dataframe\">\n  <thead>\n    <tr style=\"text-align: right;\">\n      <th></th>\n      <th>Unnamed: 0</th>\n      <th>City</th>\n      <th>Lat</th>\n      <th>Lng</th>\n      <th>Max Temp</th>\n      <th>Humidity</th>\n      <th>Cloudiness</th>\n      <th>Wind Speed</th>\n      <th>Country</th>\n      <th>Date</th>\n      <th>Hotel Name</th>\n    </tr>\n  </thead>\n  <tbody>\n    <tr>\n      <th>1</th>\n      <td>1</td>\n      <td>Vaini</td>\n      <td>-21.2000</td>\n      <td>-175.2000</td>\n      <td>79.74</td>\n      <td>84</td>\n      <td>58</td>\n      <td>13.98</td>\n      <td>TO</td>\n      <td>1605236400</td>\n      <td>Keleti Beach Resort</td>\n    </tr>\n    <tr>\n      <th>12</th>\n      <td>12</td>\n      <td>Pyu</td>\n      <td>18.4833</td>\n      <td>96.4333</td>\n      <td>79.00</td>\n      <td>81</td>\n      <td>17</td>\n      <td>5.79</td>\n      <td>MM</td>\n      <td>1605236400</td>\n      <td>Mr Bo Bo</td>\n    </tr>\n    <tr>\n      <th>15</th>\n      <td>15</td>\n      <td>Kapaa</td>\n      <td>22.0752</td>\n      <td>-159.3190</td>\n      <td>79.25</td>\n      <td>68</td>\n      <td>29</td>\n      <td>17.02</td>\n      <td>US</td>\n      <td>1605236400</td>\n      <td>Sheraton Kauai Resort at Coconut Beach</td>\n    </tr>\n    <tr>\n      <th>31</th>\n      <td>31</td>\n      <td>Touros</td>\n      <td>-5.1989</td>\n      <td>-35.4608</td>\n      <td>78.76</td>\n      <td>77</td>\n      <td>10</td>\n      <td>14.54</td>\n      <td>BR</td>\n      <td>1605236400</td>\n      <td>INN NEW HORIZON</td>\n    </tr>\n    <tr>\n      <th>34</th>\n      <td>34</td>\n      <td>Faanui</td>\n      <td>-16.4833</td>\n      <td>-151.7500</td>\n      <td>79.90</td>\n      <td>73</td>\n      <td>72</td>\n      <td>9.93</td>\n      <td>PF</td>\n      <td>1605236400</td>\n      <td>Bora-Bora Pearl Beach Resort &amp; Spa</td>\n    </tr>\n  </tbody>\n</table>\n</div>"
     },
     "metadata": {},
     "execution_count": 98
    }
   ],
   "source": [
    "hotel_df.head()"
   ]
  },
  {
   "cell_type": "code",
   "execution_count": 99,
   "metadata": {},
   "outputs": [],
   "source": [
    "# NOTE: Do not change any of the code in this cell\n",
    "\n",
    "# Using the template add the hotel marks to the heatmap\n",
    "info_box_template = \"\"\"\n",
    "<dl>\n",
    "<dt>Name</dt><dd>{Hotel Name}</dd>\n",
    "<dt>City</dt><dd>{City}</dd>\n",
    "<dt>Country</dt><dd>{Country}</dd>\n",
    "</dl>\n",
    "\"\"\"\n",
    "# Store the DataFrame Row\n",
    "# NOTE: be sure to update with your DataFrame name\n",
    "hotel_info = [info_box_template.format(**row) for index, row in hotel_df.iterrows()]\n",
    "locations = hotel_df[[\"Lat\", \"Lng\"]]"
   ]
  },
  {
   "cell_type": "code",
   "execution_count": 101,
   "metadata": {},
   "outputs": [
    {
     "output_type": "display_data",
     "data": {
      "text/plain": "Figure(layout=FigureLayout(height='420px'))",
      "application/vnd.jupyter.widget-view+json": {
       "version_major": 2,
       "version_minor": 0,
       "model_id": "3e6973cc480b466489e261f801b1e837"
      }
     },
     "metadata": {}
    }
   ],
   "source": [
    "# Add marker layer ontop of heat map\n",
    "#info_box_template = \"\"\"\n",
    "#<dl>\n",
    "#<dt>Name</dt><dd>{Hotel Name}</dd>\n",
    "#<dt>City</dt><dd>{City}</dd>\n",
    "#<dt>Country</dt><dd>{Country}</dd>\n",
    "#</dl>\n",
    "#\"\"\"\n",
    "#hotel_layer = gmaps.symbol_layer(\n",
    "    #locations, fill_color='rgba(0, 150, 0, 0.4)',\n",
    "    #stroke_color='rgba(0, 0, 150, 0.4)', scale=2, info_box_content=[f\"Hotel info: {hotel_df}\" for index, row in hotel_df.iterrows()])\n",
    "#Hotel_info = markers = gmaps.marker_layer(locations)\n",
    "Hotel_marker = gmaps.marker_layer(locations, info_box_content = hotel_info)\n",
    "fig.add_layer(Hotel_marker)\n",
    "#fig.add_layer(heat_layer)\n",
    "fig\n",
    "# Display figure\n"
   ]
  },
  {
   "cell_type": "code",
   "execution_count": null,
   "metadata": {},
   "outputs": [],
   "source": []
  }
 ],
 "metadata": {
  "kernelspec": {
   "name": "python3",
   "display_name": "Python 3.8.3 64-bit ('projects2': conda)",
   "metadata": {
    "interpreter": {
     "hash": "e0bbdbaac3aac42858277d4951b427a2d738614699e88fe238771b46d984d02c"
    }
   }
  },
  "language_info": {
   "codemirror_mode": {
    "name": "ipython",
    "version": 3
   },
   "file_extension": ".py",
   "mimetype": "text/x-python",
   "name": "python",
   "nbconvert_exporter": "python",
   "pygments_lexer": "ipython3",
   "version": "3.8.3-final"
  },
  "latex_envs": {
   "LaTeX_envs_menu_present": true,
   "autoclose": false,
   "autocomplete": true,
   "bibliofile": "biblio.bib",
   "cite_by": "apalike",
   "current_citInitial": 1,
   "eqLabelWithNumbers": true,
   "eqNumInitial": 1,
   "hotkeys": {
    "equation": "Ctrl-E",
    "itemize": "Ctrl-I"
   },
   "labels_anchors": false,
   "latex_user_defs": false,
   "report_style_numbering": false,
   "user_envs_cfg": false
  }
 },
 "nbformat": 4,
 "nbformat_minor": 4
}